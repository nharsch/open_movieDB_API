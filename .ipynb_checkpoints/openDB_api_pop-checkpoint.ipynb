{
 "metadata": {
  "name": "",
  "signature": "sha256:ba09c9204a16f2a0d5fd20c2eff1289cc00c5cae8f8085bce598b15e44e5ad91"
 },
 "nbformat": 3,
 "nbformat_minor": 0,
 "worksheets": [
  {
   "cells": [
    {
     "cell_type": "code",
     "collapsed": false,
     "input": [
      "import requests"
     ],
     "language": "python",
     "metadata": {},
     "outputs": [],
     "prompt_number": 6
    },
    {
     "cell_type": "code",
     "collapsed": false,
     "input": [
      "s = requests.session()"
     ],
     "language": "python",
     "metadata": {},
     "outputs": [],
     "prompt_number": 10
    },
    {
     "cell_type": "code",
     "collapsed": false,
     "input": [
      "params = {\"t\" : \"The Dark Knight\"}\n",
      "r = s.get(\"http://www.omdbapi.com/\", params=params)\n",
      "r.status_code"
     ],
     "language": "python",
     "metadata": {},
     "outputs": [
      {
       "metadata": {},
       "output_type": "pyout",
       "prompt_number": 14,
       "text": [
        "200"
       ]
      }
     ],
     "prompt_number": 14
    },
    {
     "cell_type": "code",
     "collapsed": false,
     "input": [
      "r.json()\n",
      "r_dict = r.json()\n",
      "print r_dict"
     ],
     "language": "python",
     "metadata": {},
     "outputs": [
      {
       "output_type": "stream",
       "stream": "stdout",
       "text": [
        "{u'Plot': u'When the menace known as the Joker wreaks havoc and chaos on the people of Gotham, the caped crusader must come to terms with one of the greatest psychological tests of his ability to fight injustice.', u'Rated': u'PG-13', u'Response': u'True', u'Language': u'English, Mandarin', u'Title': u'The Dark Knight', u'Country': u'USA, UK', u'Writer': u'Jonathan Nolan (screenplay), Christopher Nolan (screenplay), Christopher Nolan (story), David S. Goyer (story), Bob Kane (characters)', u'Metascore': u'82', u'imdbRating': u'9.0', u'Director': u'Christopher Nolan', u'Released': u'18 Jul 2008', u'Actors': u'Christian Bale, Heath Ledger, Aaron Eckhart, Michael Caine', u'Year': u'2008', u'Genre': u'Action, Crime, Drama', u'Awards': u'Won 2 Oscars. Another 124 wins & 100 nominations.', u'Runtime': u'152 min', u'Type': u'movie', u'Poster': u'http://ia.media-imdb.com/images/M/MV5BMTMxNTMwODM0NF5BMl5BanBnXkFtZTcwODAyMTk2Mw@@._V1_SX300.jpg', u'imdbVotes': u'1,299,062', u'imdbID': u'tt0468569'}\n"
       ]
      }
     ],
     "prompt_number": 22
    },
    {
     "cell_type": "code",
     "collapsed": false,
     "input": [
      "def title_search(title):\n",
      "    params = {\"t\" : title}\n",
      "    r = s.get(\"http://www.omdbapi.com/\", params=params)\n",
      "    return r.json()\n",
      "title_search(\"batman\")"
     ],
     "language": "python",
     "metadata": {},
     "outputs": [
      {
       "metadata": {},
       "output_type": "pyout",
       "prompt_number": 23,
       "text": [
        "{u'Actors': u'Michael Keaton, Jack Nicholson, Kim Basinger, Robert Wuhl',\n",
        " u'Awards': u'Won 1 Oscar. Another 9 wins & 21 nominations.',\n",
        " u'Country': u'USA, UK',\n",
        " u'Director': u'Tim Burton',\n",
        " u'Genre': u'Action, Adventure',\n",
        " u'Language': u'English, French',\n",
        " u'Metascore': u'66',\n",
        " u'Plot': u'The Dark Knight of Gotham City begins his war on crime with his first major enemy being the clownishly homicidal Joker.',\n",
        " u'Poster': u'http://ia.media-imdb.com/images/M/MV5BMTYwNjAyODIyMF5BMl5BanBnXkFtZTYwNDMwMDk2._V1_SX300.jpg',\n",
        " u'Rated': u'PG-13',\n",
        " u'Released': u'23 Jun 1989',\n",
        " u'Response': u'True',\n",
        " u'Runtime': u'126 min',\n",
        " u'Title': u'Batman',\n",
        " u'Type': u'movie',\n",
        " u'Writer': u'Bob Kane (Batman characters), Sam Hamm (story), Sam Hamm (screenplay), Warren Skaaren (screenplay)',\n",
        " u'Year': u'1989',\n",
        " u'imdbID': u'tt0096895',\n",
        " u'imdbRating': u'7.6',\n",
        " u'imdbVotes': u'224,802'}"
       ]
      }
     ],
     "prompt_number": 23
    },
    {
     "cell_type": "code",
     "collapsed": false,
     "input": [
      "Movie_list = [\"labyrinth\", \"gone with the wind\", \"die hard\", \"love actually\"]"
     ],
     "language": "python",
     "metadata": {},
     "outputs": [],
     "prompt_number": 24
    },
    {
     "cell_type": "code",
     "collapsed": false,
     "input": [
      "[{movie: title_search(movie)['Actors']} for movie in Movie_list]"
     ],
     "language": "python",
     "metadata": {},
     "outputs": [
      {
       "metadata": {},
       "output_type": "pyout",
       "prompt_number": 25,
       "text": [
        "[{'labyrinth': u'David Bowie, Jennifer Connelly, Toby Froud, Shelley Thompson'},\n",
        " {'gone with the wind': u\"Thomas Mitchell, Barbara O'Neil, Vivien Leigh, Evelyn Keyes\"},\n",
        " {'die hard': u'Bruce Willis, Bonnie Bedelia, Reginald VelJohnson, Paul Gleason'},\n",
        " {'love actually': u'Bill Nighy, Gregor Fisher, Rory MacGregor, Colin Firth'}]"
       ]
      }
     ],
     "prompt_number": 25
    },
    {
     "cell_type": "code",
     "collapsed": false,
     "input": [
      "import csv"
     ],
     "language": "python",
     "metadata": {},
     "outputs": [],
     "prompt_number": 26
    },
    {
     "cell_type": "code",
     "collapsed": false,
     "input": [
      "test_sked = csv.reader(open(\"test_sked.csv\", 'rU'))"
     ],
     "language": "python",
     "metadata": {},
     "outputs": [],
     "prompt_number": 27
    },
    {
     "cell_type": "code",
     "collapsed": false,
     "input": [
      "test_sked"
     ],
     "language": "python",
     "metadata": {},
     "outputs": [
      {
       "metadata": {},
       "output_type": "pyout",
       "prompt_number": 28,
       "text": [
        "<_csv.reader at 0x10482efa0>"
       ]
      }
     ],
     "prompt_number": 28
    },
    {
     "cell_type": "code",
     "collapsed": false,
     "input": [
      "with open(\"test_sked.csv\", 'rU') as csv_file:\n",
      "    csv_reader = csv.reader(csv_file)\n",
      "    movie_list = [row[0] for row in test_sked]\n",
      "print movie_list"
     ],
     "language": "python",
     "metadata": {},
     "outputs": [
      {
       "output_type": "stream",
       "stream": "stdout",
       "text": [
        "[\"'57 Chevy Bel Air\", 'A Bum Steer For Scooby', 'A Bungle In The Jungle', 'A Call To Arms', 'A Christmas Story', 'A Christmas Story 2', 'A Cinderella Story: Once Upon A Song', 'A Close Encounter With A Strange Kind', 'A Clue For Scooby Doo', 'A Creepy Tangle In The Bermuda Triangle', 'A Fright At The Opera', 'A Frightened Hound Meets Demons Underground', 'A Gaggle Of Galloping Ghosts', 'A Gem Of A Case / Scooby-Doo And Genie-Poo / Tumbleweed Derby', 'A Haunting In Crystal Cove', 'A Highland Fling With A Monstrous Thing', 'A Menace In Venice', 'A Night Of Fright Is No Delight', 'A Night With A Snow Beast Fright', 'A Tiki Scare Is No Fair', 'A Very Long Engagement', 'A Walk To Remember', 'Absolute Power', \"After The Lovin'\", 'Against All Odds', 'Aliens Among Us', 'All Fear The Freak', 'Almost Ghosts', 'Almost Purr-fect', 'An American Haunting', 'An American In Paris', 'Anatomy Of A Murder', 'Angels In The Outfield', 'Art Of Darkness', 'Attack Of The Headless Horror', 'Austin Powers In Goldmember', 'Bachelor/Bachelorette', 'Barbie Of Swan Lake', 'Basic', \"Basketball Bumblers / Maltese Mackerel / Yabba's Rustle Hustle\", 'Battle Lines', 'Battle Of The Humungonauts', 'Battlefield Earth', 'Bedlam In The Big Top', 'Betrayal', 'Beware The Beast From Below', 'Big Trouble', 'Blade II', 'Blame Game', 'Blankman', 'Blazing Saddles', 'Blow', 'Bonnie And Clyde', 'Boxed In', 'Breaking Away', 'Broken Embraces', 'Canine To Five / Hard Hat Scooby / Sopwith Scooby', 'Captain Canine Caper / Close Encounter OF The Worst Kind / Law & Disorder', 'Careful What You Dig For', 'Carl Gets A Girl', 'Carl Gets A Roommate', 'Carl Has Issues', 'Carl Is Jealous', 'Carl Meets A Lady', 'Catwoman', 'Charlie And The Chocolate Factory', 'Charlton Heston Presents The Bible: Genesis', 'Charlton Heston Presents The Bible: Jesus Of Nazareth', 'Charlton Heston Presents The Bible: The Passion', 'Charlton Heston Presents The Bible: The Story Of Moses', 'Chefs Of Steel', 'Christine', 'Christmas Break', 'Christmas Do-Over', 'Cigar Talk', 'Cleopatra Jones', 'Cloud Atlas', 'Collateral Damage', 'Collateral Damage', 'Come Undone', 'Crazy, Stupid, Love', 'Creepshow', 'Creepy Cruise', 'Creepy Heap From The Deep', 'Critters', 'Critters 2: The Main Course', 'Critters 3', 'Critters 4', \"Cruisin' For A Bruisin'\", 'Curse Of The Golden Flower', 'D.T.R.', 'Dallas (2012)', 'Dallas, Season 1', 'Dallas, Season 2', 'Dallas, Season 3', 'Dance Of The Undead', 'Dangerous Liaisons', 'Dark Night Of The Hunters', 'Darkness Falls', 'Dead Justice', 'Dead Reckoning', 'Decoy For A Dognapper', 'Denial, Anger, Acceptance', \"Dennis's Birthday\", 'Dips & Salsa', 'Dominion: A Prequel To The Exorcist', \"Don't Feed The Animals\", \"Don't Fool With A Phantom\", \"Don't Get A Big Head\", \"Don't Go Near The Fortress Of Fear\", 'Duma', 'Dumb Waiter Caper / Comic Book Caper / Low-Down Showdown', 'Eight Is Enough', 'Endgame / Brave New World', 'Enemy Of My Enemy', 'Escape From Mystery Manor', 'Everything Is Illuminated', 'Ewings Unite!', \"Excalibur Scooby / Scooby's Luck Of The Irish / Scooby's Esc\", 'Exorcist II: The Heretic', 'False Confessions', 'Family Affair', 'Family Business', 'Fear Dot Com', 'Final Destination', 'Final Destination 2', 'Final Destination 3', 'Finding Joy', 'First Christmas', 'First Date', 'First Kiss', \"First Valentine's Day\", 'Fish For Breakfast', 'Fly Away', 'For Joe', 'Forgive', 'Foul Play In Funland', 'Four Christmases', 'Frankenfish', 'Freedom', 'Friday', 'From Bad To Curse / Misfortune Teller / Vild Vest Vampire', 'Full Metal Jacket', 'Gates Of Gloom', 'Geography Club', 'Gettysburg', 'Go Away Ghost Ship', 'Godzilla: Tokyo S.O.S.', \"Goin' Fishin'\", 'GoodFellas', 'Gothika', 'Grim Judgement', 'Grind', 'Guilt & Innocence', 'Guilt By Association', 'Hang In There, Scooby-Doo', 'Happy Halloween', 'Hassle In The Castle', 'Haunted House Hang-Up', \"He's Way More Famous Than You\", 'Heaven Can Wait (1943)', 'Heavy Metal 2000', 'Hedging Your Bets', 'High Rise Hair Raiser', 'High Society Scooby', 'Holiday', 'Home Alone 3', 'Hothouse Scooby / Scooby-Doo 2000 / Punk Rock Scooby', 'House Of The Nightmare Witch', 'House Of Wax (1953)', 'House Of Wax (2005)', 'House On Haunted Hill (1999)', 'How To Deal', 'Howl Of The Fright Hound', 'Hurt', 'I Left My Neck In San Francisco', 'Identity', 'Idle Hands', 'In Fear Of The Phantom', 'Inside Job', 'Jailhouse Rock', 'Jason Goes To Hell: The Final Friday', 'Jason X', \"Jeepers It's The Creeper\", \"Jeepers, It's The Jaguaro\", \"Jim Won't Eat\", 'Joyce & Vince And Peaches & Herb', \"Joyce's Choices\", \"JR's Masterpiece\", 'Karaoke Christmas', 'Lady In The Water', 'Legacies', \"Legend Of The Guardians: The Owls Of Ga'Hoole\", 'Leprechaun 2', 'Leprechaun 3', 'Leprechaun 4: In Space', 'Leprechaun In The Hood', 'Leprechaun: Back 2 Tha Hood', 'Let Me In', 'Letters From Iwo Jima', 'Life As We Know It', 'Lifting The Veil', 'Lightning Strikes Twice', 'Like A Bad Penny', 'Like Father, Like Son', \"Lock The Door, It's A Minotaur\", \"Look Who's Talking Now\", 'Lost Boys: The Thirst', 'Lost Boys: The Tribe', 'Love & Family', 'Love Me Tender', 'Make A Beeline Away From That Feline', 'Mamba Wamba And The Voodoo Hood', 'Matchstick Men', 'McMillan And Mom', 'Mean Streets', 'Mike & Molly', \"Mike & Molly's Excellent Adventure\", 'Mike & Molly, Season 1', 'Mike & Molly, Season 2', 'Mike & Molly, Season 3', 'Mike & Molly, Season 4', \"Mike Can't Read\", 'Mike Cheats', 'Mike Goes To The Opera', 'Mike In The House', 'Mike Likes Briefs', 'Mike Likes Cake', 'Mike Likes Lasagna', 'Mike Snores', 'Mike Takes A Test', 'Mike The Tease', \"Mike's Apartment\", \"Mike's Boss\", \"Mike's Feet\", \"Mike's Manifold Destiny\", \"Mike's New Boots\", \"Mike's Not Ready\", 'Mind Over Molly', 'Mine Your Own Business', 'Mixed Nuts', \"Molly Can't Lie\", 'Molly Gets A Hat', 'Molly In The Middle', 'Molly Makes Soup', 'Molly Needs A Number', 'Molly Unleashed', 'Molly Unleashed deadened/cancelled', \"Molly's Birthday\", \"Molly's New Shoes\", \"Molly's Out Of Town\", 'Moonlight Madness', 'More Fondue For Scooby-Doo!', 'Mortal Kombat', 'Movie Monster Menace / Double Trouble Date / Slippery Dan The Escape Man', 'Mystery Mask Mix-Up', 'Mystery Of The Missing Mystery Solvers', 'Mystery Solvers Club State Finals', 'Network', 'Never Ape And Ape Man', 'Night Fright', 'Night Terrors', 'Nightmare In Red', 'No Good Deed', \"Not The Messiah: He's A Very Naughty Boy\", 'Nowhere Boy', 'Nowhere To Hyde', 'One Missed Call', 'Open Mike Night', 'Open Water 2: Adrift', 'Opening Day', 'Operation Dog And Hippy Boy', 'P.S. I Love You', \"Pan's Labyrinth\", 'Party Arty', 'Party Planners', 'Pawn Of Shadows', 'Peggy Gets A Job', 'Peggy Goes To Branson', 'Peggy Shaves Her Legs', 'Peggy Sue Got Married', \"Peggy's New Beau\", 'Picnic Poopers / Muscle Trouble / Alien Schmalien', 'Pigskin Scooby', 'Pigskin Scooby Tenderbigfoot Scooby And The Beanstalk', 'Pilot', 'Playing Chicken', 'Poker In The Front, Looker In The Back', 'Pole To Pole', 'Police Academy 2: Their First Assignment', 'Police Academy 3: Back In Training', 'Police Academy 4: Citizens On Patrol', 'Police Academy 5: Assignment Miami Beach', 'Police Academy 6: City Under Siege', 'Police Academy 7: Mission To Moscow', 'Pollock', 'Postcards From The Edge', \"Preacher's Kid\", 'Presumed Innocent', 'Pride', 'Project X', 'Reflection', 'Resurrection', 'Return To House On Haunted Hill', 'Revelations', 'Revenge Of The Man Crab', 'Rich Man, Poor Girl', 'Rickshaw Scooby / Scooby-Dooby Goo / Backstage Scooby', 'Rise: Blood Hunter', 'Robot Ranch', 'Rock Of Ages', 'Rocky Mountain YIIIIII', 'Run, Fat Boy, Run', 'Runaway Robi', 'Rush Hour 2', 'Sacrifice', 'Samuel Gets Fired', 'Saving Face', 'Scared A Lot In Camelot', 'School Daze', 'School Recital', 'Scooby And The Minotaur / Scooby Pinch Hits', 'Scooby At The Center Of The World', 'Scooby Dudes', 'Scooby Ghosts West', 'Scooby Of The Jungle / Scooby-Do And Cyclops, Too', 'Scooby Roo / Scooby And The Gold Medal Gambit', \"Scooby Saves The World / Scooby's House Of Mystery / Sweet D\", 'Scooby The Barbarian / No Sharking Zone', \"Scooby's Bull Fright\", \"Scooby's Chinese Fortune Kooky Caper\", \"Scooby's Desert Dilemma\", \"Scooby's Night With A Frozen Fright\", \"Scooby's Swiss Miss\", 'Scooby-Doo And A Mummy Too', 'Scooby-Doo And Scrappy-Doo', 'Scooby-Doo And Scrappy-Doo, Season 1', 'Scooby-Doo And Scrappy-Doo, Season 2', 'Scooby-Doo And Scrappy-Doo, Season 3', 'Scooby-Doo And Scrappy-Doo, Season 4', 'Scooby-Doo And Scrappy-Doo, Season 5', 'Scooby-Doo Where Are You?', 'Scooby-Doo Where Are You?, Season 1', 'Scooby-Doo Where Are You?, Season 2', 'Scooby-Doo Where Are You?, Season 3', 'Scooby-Doo! Mystery Incorporated', 'Scooby-Doo! Mystery Incorporated, Season 1', 'Scooby-Doo! Mystery Incorporated, Season 2', \"Scooby-Doo, Where's The Crew\", 'Scooby-Doo: The Movie', \"Scooby-Nocchio / Scooby's Roots / Lighthouse Keeper Scooby\", 'Scoobygeist / The Quagmire Quake Caper', \"Scrappy's Birthday\", 'Secret Of The Ghost Rig', 'Sex And Death', 'Sex, Lies And Helicopters', 'Shaggy & Scooby-Doo Get A Clue!', 'Shaggy & Scooby-Doo Get A Clue!, Season 1', 'Shaggy & Scooby-Doo Get A Clue!, Season 2', 'Shaggy And Scooby World', 'Shags To Riches', \"Shiver And Shake, That Demon's Snake\", 'Shoeless Molly Flynn', 'Shrieking Madness', 'Silence', 'Singles', 'Sins Of The Father', 'Smart House', \"Smokin' Aces 2: Assassins' Ball\", 'Snakes On A Plane', 'Snow Job Too Small / Hoe-Down Showdown / Tragic Magic', 'Something Borrowed', 'South Seas Scare', 'Soylent Green', 'Spooky Space Kook', 'Spring Break', \"St. Patrick's Day\", 'Stand And Deliver', 'Strange Encounters Of A Scooby Kind', 'Suburban Commando', 'Sucker Punch (2011)', 'Super Scary Movie Night', 'Super Teen Shaggy / Stake-Out At The Take-Out / Mine Your Own Business', 'Surprise', \"Teacher's Pet\", 'Teenage Mutant Ninja Turtles', 'Teenage Mutant Ninja Turtles 3', 'Teenage Mutant Ninja Turtles II: The Secret Of The Ooze', 'Thanksgiving Is Cancelled', \"That's Snow Ghost\", 'The Backstage Rage', 'The Beast Is Awake In Bottomless Lake', 'The Big Red One', 'The Book Of Eli', 'The Business Of Being Born', 'The Campaign', 'The Catfish Burglar Caper / One Million Years Before Lunch / Go East, Young Pardner', 'The Changing Of The Guard', 'The Chiller Diller Movie Thriller', 'The Client', 'The Creature Came From Chem Lab / No Thanks, Masked Manx', \"The Creature Of Vulture's Claw\", 'The Creeping Creatures', 'The Creepy Case Of Old Iron Face', 'The Curse Of Viking Lake', 'The Demon Of The Dugout', 'The Devouring', 'The Diabolical Disc Demon', 'The Dice Lady Cometh', \"The Dragon's Secret\", 'The Dress', 'The Exorcist III', 'The Fall Dog / The Scooby Coupe', 'The Fiesta Host Is An Aztec Ghost', 'The First And Last Ride-Along', 'The Following', 'The Following, Season 2', 'The Furious And The Fast', 'The Gathering Gloom', 'The Ghost Of The Bad Humor Man', 'The Ghost That Sacked The Quarterback', 'The Ghoul, The Bat And The Ugly', 'The Grasp Of The Gnome', 'The Great Race', 'The Gruesome Game Of The Gator Ghoul', 'The Hairy Scare Of The Devil Bear', 'The Harum Scarum Sanitarium', 'The Haunting (1963)', 'The Headless Horseman Of Halloween', 'The Heart Of Evil', 'The Hodag Of Horror', 'The Honeymoon Is Over', 'The Horrible Herd', 'The Hound Of The Scoobyvilles / The Dinosaur Deception', 'The Incredible Cat Lady Caper / Disappearing Car Caper / Up A Crazy River', 'The Informant!', 'The Last Days Of Pompeii', 'The Last Hurrah', 'The Last Samurai', 'The Lawnmower Man', 'The Legend Of Alice May', 'The Lucky One', 'The Man In The Mirror', 'The Many Faces Of Evil', 'The Mark Of Scooby / The Crazy Carnival Caper', 'The Menace Of Manticore', 'The Messenger', 'The Midnight Zone', 'The Neon Phantom Of The Roller Disco', 'The New World', 'The Night Ghoul Of Wonderworld', 'The Night On Haunted Mountain', 'The Night The Clown Cried', 'The Night The Clown Cried II: Tears Of Doom', 'The No-Face Zombie Chase Case', 'The Old Cat And Mouse Game', 'The Outsiders', 'The Ozark Witch Switch', 'The Perfect Holiday', 'The Phantom Of The Opera (2004)', 'The Price You Pay', 'The Prince', 'The Princess And The Troll', 'The Ransom Of Scooby Chief', 'The Reaping', 'The Reaping', 'The Rehearsal', 'The Return', 'The Scarab Lives', 'The Scary Sky Skeleton', 'The Scooby-Doo Show', 'The Scooby-Doo Show, Season 1', 'The Scooby-Doo Show, Season 2', 'The Scorpion King 2: Rise Of A Warrior', 'The Secret Serum', 'The Shawshank Redemption', 'The Shining', 'The Shop Around The Corner', \"The Siren's Song\", 'The Song Of Mystery', \"The Sorcerer's A Menace\", \"The Spirits Of '76\", 'The Spooky Case Of The Grand Prix Race', 'The Stepfather (2009)', 'The Swan Princess: The Mystery Of The Enchanted Treasure', 'The Tar Monster', 'The Trouble With Girls', 'The Unbearable Lightness Of Being', 'The Warlock Of Wimbledon', 'The Wedding', 'The Wild Brood', 'The Winning Season', 'Theater Of The Doomed', \"There's A Demon Shark In Foggy Dark\", \"There's A Doctor In The House\", \"They Shoot Asses, Don't They?\", 'This Is Elvis', 'This Old Peggy', 'Three Girls And An Urn', 'Three Kings', 'Through The Curtain', 'TMNT', 'To Switch A Witch', 'Tom And Jerry: A Nutcracker Tale', 'Trial And Error', 'Trouble With The Curve', 'Trust Me', 'Trust Me', 'Truth And Consequences', 'Twenty Thousand Screams Under The Sea', 'Twilight Zone: The Movie', 'Uncle Albert Alert', 'Unmasked', 'V For Vendetta', 'Valentine Piggyback', \"Valentine's Day\", 'Vampires, Bats & Scaredy Cats', 'Venomous Creatures', 'Victims Of Love', \"Victoria Can't Drive\", 'Victoria Runs Away', \"Victoria's Birthday\", 'Vince Takes A Bath', 'Viva Las Vegas', 'Watch Out! The Willawaw', 'Web Of The Dreamweaver', 'Wedding Bell Boos!, Part 1 / Wedding Bell Boos!, Part 2', \"Weekend At Peggy's\", 'What A Night For A Knight', 'What Molly Hath Wrought', 'What The Hex Going On?', 'Whatta Shocking Ghost', 'When The Cicada Calls', 'When You Wish Upon A Star Creature', 'Where Stalks The Scarebear', \"Where There's Smoke\", 'Where Walks Aphrodite', \"Where's Scooby-Doo?, Part 1 / Where's Scooby-Doo?, Part 2\", \"Where's The Werewolf? / Cable Car Caper / Bride And Gloom\", 'Which Witch Is Which', \"Who's Afraid Of J.C. Small\", \"Who's Afraid Of The Big Bad Werewolf\", \"Who's Minding The Monster? / Scooby A La Mode\", \"Who's Scooby-Doo? / Beauty Contest Caper / Runaway Scrappy\", 'Windy City', 'Wizards And Warlocks / Scoobsie', 'Wrath Of The Krampus', 'Yard Sale', 'Zoinks The Wonder Dog', 'Zoinksman']\n"
       ]
      }
     ],
     "prompt_number": 29
    },
    {
     "cell_type": "code",
     "collapsed": false,
     "input": [
      "[{movie: title_search(movie).get('Actors', \"not found\")} for movie in movie_list[:10]]"
     ],
     "language": "python",
     "metadata": {},
     "outputs": [
      {
       "metadata": {},
       "output_type": "pyout",
       "prompt_number": 31,
       "text": [
        "[{\"'57 Chevy Bel Air\": u'Billy Gardell, Melissa McCarthy, Reno Wilson, Katy Mixon'},\n",
        " {'A Bum Steer For Scooby': u'Casey Kasem, John Stephenson'},\n",
        " {'A Bungle In The Jungle': u'Frank Welker'},\n",
        " {'A Call To Arms': u'Alyssa Milano, Rose McGowan, Holly Marie Combs, Brian Krause'},\n",
        " {'A Christmas Story': u'Melinda Dillon, Darren McGavin, Scott Schwartz, Jean Shepherd'},\n",
        " {'A Christmas Story 2': u'Daniel Stern, Braeden Lemasters, Stacey Travis, Valin Shinyei'},\n",
        " {'A Cinderella Story: Once Upon A Song': u'Lucy Hale, Freddie Stroma, Missi Pyle, Megan Park'},\n",
        " {'A Close Encounter With A Strange Kind': u'Christian Hoff, Frank Welker'},\n",
        " {'A Clue For Scooby Doo': u'Nicole Jaffe, Casey Kasem, Don Messick, Vic Perrin'},\n",
        " {'A Creepy Tangle In The Bermuda Triangle': u'Casey Kasem, Don Messick, Heather North, John Stephenson'}]"
       ]
      }
     ],
     "prompt_number": 31
    },
    {
     "cell_type": "code",
     "collapsed": false,
     "input": [],
     "language": "python",
     "metadata": {},
     "outputs": []
    }
   ],
   "metadata": {}
  }
 ]
}