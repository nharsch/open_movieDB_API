{
 "metadata": {
  "name": "",
  "signature": "sha256:3ca8075a37baf61736611d45cae873d69cb6f3512c408cd4dec324b3ab4ed7c5"
 },
 "nbformat": 3,
 "nbformat_minor": 0,
 "worksheets": [
  {
   "cells": [
    {
     "cell_type": "code",
     "collapsed": false,
     "input": [
      "import requests"
     ],
     "language": "python",
     "metadata": {},
     "outputs": [],
     "prompt_number": 1
    },
    {
     "cell_type": "code",
     "collapsed": false,
     "input": [
      "s = requests.session()"
     ],
     "language": "python",
     "metadata": {},
     "outputs": [],
     "prompt_number": 2
    },
    {
     "cell_type": "code",
     "collapsed": false,
     "input": [
      "params = {\"t\" : \"The Dark Knight\"}\n",
      "r = s.get(\"http://www.omdbapi.com/\", params=params)"
     ],
     "language": "python",
     "metadata": {},
     "outputs": [],
     "prompt_number": 14
    },
    {
     "cell_type": "code",
     "collapsed": false,
     "input": [
      "r.json()"
     ],
     "language": "python",
     "metadata": {},
     "outputs": [
      {
       "metadata": {},
       "output_type": "pyout",
       "prompt_number": 15,
       "text": [
        "{u'Actors': u'Christian Bale, Heath Ledger, Aaron Eckhart, Michael Caine',\n",
        " u'Awards': u'Won 2 Oscars. Another 124 wins & 100 nominations.',\n",
        " u'Country': u'USA, UK',\n",
        " u'Director': u'Christopher Nolan',\n",
        " u'Genre': u'Action, Crime, Drama',\n",
        " u'Language': u'English, Mandarin',\n",
        " u'Metascore': u'82',\n",
        " u'Plot': u'When the menace known as the Joker wreaks havoc and chaos on the people of Gotham, the caped crusader must come to terms with one of the greatest psychological tests of his ability to fight injustice.',\n",
        " u'Poster': u'http://ia.media-imdb.com/images/M/MV5BMTMxNTMwODM0NF5BMl5BanBnXkFtZTcwODAyMTk2Mw@@._V1_SX300.jpg',\n",
        " u'Rated': u'PG-13',\n",
        " u'Released': u'18 Jul 2008',\n",
        " u'Response': u'True',\n",
        " u'Runtime': u'152 min',\n",
        " u'Title': u'The Dark Knight',\n",
        " u'Type': u'movie',\n",
        " u'Writer': u'Jonathan Nolan (screenplay), Christopher Nolan (screenplay), Christopher Nolan (story), David S. Goyer (story), Bob Kane (characters)',\n",
        " u'Year': u'2008',\n",
        " u'imdbID': u'tt0468569',\n",
        " u'imdbRating': u'9.0',\n",
        " u'imdbVotes': u'1,299,062'}"
       ]
      }
     ],
     "prompt_number": 15
    },
    {
     "cell_type": "code",
     "collapsed": false,
     "input": [
      "def title_search(title):\n",
      "    params = {\"t\" : title}\n",
      "    r = s.get(\"http://www.omdbapi.com/\", params=params)\n",
      "    return r.json()\n",
      "title_search(\"batman\")"
     ],
     "language": "python",
     "metadata": {},
     "outputs": [
      {
       "metadata": {},
       "output_type": "pyout",
       "prompt_number": 34,
       "text": [
        "{u'Actors': u'Michael Keaton, Jack Nicholson, Kim Basinger, Robert Wuhl',\n",
        " u'Awards': u'Won 1 Oscar. Another 9 wins & 21 nominations.',\n",
        " u'Country': u'USA, UK',\n",
        " u'Director': u'Tim Burton',\n",
        " u'Genre': u'Action, Adventure',\n",
        " u'Language': u'English, French',\n",
        " u'Metascore': u'66',\n",
        " u'Plot': u'The Dark Knight of Gotham City begins his war on crime with his first major enemy being the clownishly homicidal Joker.',\n",
        " u'Poster': u'http://ia.media-imdb.com/images/M/MV5BMTYwNjAyODIyMF5BMl5BanBnXkFtZTYwNDMwMDk2._V1_SX300.jpg',\n",
        " u'Rated': u'PG-13',\n",
        " u'Released': u'23 Jun 1989',\n",
        " u'Response': u'True',\n",
        " u'Runtime': u'126 min',\n",
        " u'Title': u'Batman',\n",
        " u'Type': u'movie',\n",
        " u'Writer': u'Bob Kane (Batman characters), Sam Hamm (story), Sam Hamm (screenplay), Warren Skaaren (screenplay)',\n",
        " u'Year': u'1989',\n",
        " u'imdbID': u'tt0096895',\n",
        " u'imdbRating': u'7.6',\n",
        " u'imdbVotes': u'224,802'}"
       ]
      }
     ],
     "prompt_number": 34
    },
    {
     "cell_type": "code",
     "collapsed": false,
     "input": [
      "Movie_list = [\"labyrinth\", \"gone with the wind\", \"die hard\", \"love actually\"]"
     ],
     "language": "python",
     "metadata": {},
     "outputs": [],
     "prompt_number": 27
    },
    {
     "cell_type": "code",
     "collapsed": false,
     "input": [
      "[{movie: title_search(movie)['Actors']} for movie in Movie_list]"
     ],
     "language": "python",
     "metadata": {},
     "outputs": [
      {
       "metadata": {},
       "output_type": "pyout",
       "prompt_number": 38,
       "text": [
        "[{'labyrinth': u'David Bowie, Jennifer Connelly, Toby Froud, Shelley Thompson'},\n",
        " {'gone with the wind': u\"Thomas Mitchell, Barbara O'Neil, Vivien Leigh, Evelyn Keyes\"},\n",
        " {'die hard': u'Bruce Willis, Bonnie Bedelia, Reginald VelJohnson, Paul Gleason'},\n",
        " {'love actually': u'Bill Nighy, Gregor Fisher, Rory MacGregor, Colin Firth'}]"
       ]
      }
     ],
     "prompt_number": 38
    },
    {
     "cell_type": "code",
     "collapsed": false,
     "input": [],
     "language": "python",
     "metadata": {},
     "outputs": []
    }
   ],
   "metadata": {}
  }
 ]
}